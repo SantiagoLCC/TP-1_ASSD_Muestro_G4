{
 "cells": [
  {
   "cell_type": "code",
   "execution_count": 56,
   "metadata": {},
   "outputs": [],
   "source": [
    "from sympy import pretty\n",
    "from IPython.display import display, Math\n",
    "import scipy.signal as signal\n",
    "import sympy as sp\n",
    "import numpy as np\n",
    "import matplotlib.pyplot as plt \n",
    "\n",
    "R1, R2, C1, C2, R12, R22, C12, C22, R13, R23, C13, C23, f = sp.symbols('R1, R2, C1, C2, R12, R22, C12, C22, R13, R23, C13, C23, f', Real=True)\n",
    "p1, p2, p3 = sp.symbols('P1, P2, P3', complex=True)\n",
    "s= sp.symbols('s')"
   ]
  },
  {
   "cell_type": "code",
   "execution_count": 57,
   "metadata": {},
   "outputs": [],
   "source": [
    "#Definición de los polos:\n",
    "P1= (-11063.38 + (79654.84*sp.I))*2*3.1415926535897932384\n",
    "P2= (-30234.29 + (57431.56*sp.I))*2*3.1415926535897932384\n",
    "P3= (-42480.06 + (20314.02*sp.I))*2*3.1415926535897932384\n",
    "\n",
    "#Definición de las Resistencias\n",
    "R1_val= 1000\n",
    "R2_val= 3300\n",
    "\n",
    "R12_val= 1000\n",
    "R22_val= 3300\n",
    "\n",
    "R13_val= 1000\n",
    "R23_val= 3300\n"
   ]
  },
  {
   "cell_type": "code",
   "execution_count": 58,
   "metadata": {},
   "outputs": [
    {
     "data": {
      "text/latex": [
       "$\\displaystyle \\frac{1.0}{1.0 s^{2} + 139026.533327489 s + 255318450888.985}$"
      ],
      "text/plain": [
       "<IPython.core.display.Math object>"
      ]
     },
     "metadata": {},
     "output_type": "display_data"
    },
    {
     "name": "stdout",
     "output_type": "stream",
     "text": [
      ".param r1= 1000 r2= 3300 c1= 9.37252963044761e-9 c2= 1.26633041302148e-10 r12= 1000 r22= 3300 c12= 3.42961110920421e-9 c22= 5.31302556815265e-10 r13= 1000 r23= 3300 c13= 2.44095363478539e-9 c23= 1.41827028406999e-9\n"
     ]
    }
   ],
   "source": [
    "pol1=((s-(P1))*(s-(sp.conjugate(P1))))\n",
    "pol2=((s-(P2))*(s-(sp.conjugate(P2))))\n",
    "pol3=((s-(P3))*(s-(sp.conjugate(P3))))\n",
    "H1=sp.simplify(1/pol1)\n",
    "H2=sp.simplify(1/pol2)\n",
    "H3=sp.simplify(1/pol3)\n",
    "\n",
    "printt = sp.latex(H1)\n",
    "display(Math(printt))\n",
    "#Definición de las constantes de la cuenta\n",
    "#Suponiendo: K/as^2+bs+c con a=1\n",
    "a=1\n",
    "c=1/(R1*R2*C1*C2)\n",
    "b=((R1*C2)+(R2*C2))/(R1*R2*C1*C2)\n",
    "\n",
    "#Asumo ciertos valores de componentes:\n",
    "b_sust= b.subs({R1: R1_val,R2: R2_val})\n",
    "c_sust= c.subs({R1: R1_val,R2: R2_val})\n",
    "\n",
    "b2_sust= b.subs({R1: R12_val,R2: R22_val})\n",
    "c2_sust= c.subs({R1: R12_val,R2: R22_val})\n",
    "\n",
    "b3_sust= b.subs({R1: R13_val,R2: R23_val})\n",
    "c3_sust= c.subs({R1: R13_val,R2: R23_val})\n",
    "\n",
    "\n",
    "eq1 = sp.Eq(b_sust, sp.Poly(sp.simplify(sp.collect(sp.collect(sp.collect(pol1, s), sp.I), sp.I)), s).coeffs()[1])\n",
    "eq2 = sp.Eq(c_sust, sp.Poly(sp.simplify(sp.collect(sp.collect(sp.collect(pol1, s), sp.I), sp.I)), s).coeffs()[2])\n",
    "\n",
    "eq12 = sp.Eq(b2_sust, sp.Poly(sp.simplify(sp.collect(sp.collect(sp.collect(pol2, s), sp.I), sp.I)), s).coeffs()[1])\n",
    "eq22 = sp.Eq(c2_sust, sp.Poly(sp.simplify(sp.collect(sp.collect(sp.collect(pol2, s), sp.I), sp.I)), s).coeffs()[2])\n",
    "\n",
    "eq13 = sp.Eq(b3_sust, sp.Poly(sp.simplify(sp.collect(sp.collect(sp.collect(pol3, s), sp.I), sp.I)), s).coeffs()[1])\n",
    "eq23= sp.Eq(c3_sust, sp.Poly(sp.simplify(sp.collect(sp.collect(sp.collect(pol3, s), sp.I), sp.I)), s).coeffs()[2])\n",
    "# Solve the system of equations\n",
    "solutions = sp.solve((eq1, eq2), (C1, C2))\n",
    "solutions2 = sp.solve((eq12, eq22), (C1, C2))\n",
    "solutions3 = sp.solve((eq13, eq23), (C1, C2))\n",
    "\n",
    "\n",
    "\n",
    "print(\".param r1=\", R1_val,  \"r2=\", R2_val,  \"c1=\", solutions[0][0],  \"c2=\", solutions[0][1], \"r12=\", R12_val,  \"r22=\", R22_val,  \"c12=\", solutions2[0][0],  \"c22=\", solutions2[0][1], \"r13=\", R13_val,  \"r23=\", R23_val,  \"c13=\", solutions3[0][0],  \"c23=\", solutions3[0][1])\n",
    "\n"
   ]
  }
 ],
 "metadata": {
  "kernelspec": {
   "display_name": "Python 3",
   "language": "python",
   "name": "python3"
  },
  "language_info": {
   "codemirror_mode": {
    "name": "ipython",
    "version": 3
   },
   "file_extension": ".py",
   "mimetype": "text/x-python",
   "name": "python",
   "nbconvert_exporter": "python",
   "pygments_lexer": "ipython3",
   "version": "3.11.8"
  }
 },
 "nbformat": 4,
 "nbformat_minor": 2
}
