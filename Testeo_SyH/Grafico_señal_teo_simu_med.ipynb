{
 "cells": [
  {
   "cell_type": "code",
   "execution_count": null,
   "metadata": {},
   "outputs": [],
   "source": [
    "#SEÑAL EN FUNCIÓN DEL TIEMPO\n",
    "\n",
    "import ltspice\n",
    "import numpy as np\n",
    "import matplotlib.pyplot as plt\n",
    "from matplotlib.ticker import MultipleLocator \n",
    "import pandas as pd\n",
    "\n",
    "raw_file = 'testSH_frec_alta_.raw'\n",
    "l = ltspice.Ltspice(raw_file)\n",
    "l.parse() \n",
    "\n",
    "\n",
    "\n",
    "time_scale = 1\n",
    "\n",
    "#Desfasajes\n",
    "\n",
    "sim_offset = 0 * time_scale\n",
    "labo_offset = 0 * time_scale\n",
    "\n",
    "#Definición de señales\n",
    "\n",
    "time_sim = l.get_time() * time_scale + sim_offset -2\n",
    "\n",
    "vi_sim = l.get_data('V(vin1)')  #Tensión de entrada simulada\n",
    "vo_sim = l.get_data('V(sh1)')   #Tensión de salida simulada\n",
    "vo2_sim = l.get_data('V(sh3)')   #Tensión de salida simulada\n",
    "\n",
    "fig_bode, ax_bode = plt.subplots(figsize=(10,4))\n",
    "\n",
    "ax_bode.plot(time_sim,vo_sim, label='$V_{o3_{sim}}$', linestyle='solid', marker='o',markersize=0.5)\n",
    "ax_bode.plot(time_sim,vo2_sim, label='$V_{oreal_{sim}}$', linestyle='solid', marker='o',markersize=0.5)\n",
    "ax_bode.plot(time_sim,vi_sim, label='$V_{i_{sim}}$', linestyle='solid', marker='o',markersize=0.5)\n",
    "\n",
    "\n",
    "#Edición de presentación\n",
    "\n",
    "ax_bode.set(xlabel='Tiempo (ms)', ylabel='Tensión (V)', title='Respuesta a la cuadrada de 1Vpp con una f=1kHz')\n",
    "\n",
    "ax_bode.set_xlim(0,3)                                                               #Elegir el límite de los ejes\n",
    "ax_bode.grid(visible=True, which='both', axis='both',color='gray',linewidth=0.3)\n",
    "ax_bode.grid(visible=True, which='major', axis='both',color='gray',linewidth=1)\n",
    "\n",
    "plt.minorticks_on()\n",
    "plt.legend()\n",
    "plt.show()"
   ]
  }
 ],
 "metadata": {
  "kernelspec": {
   "display_name": "Python 3",
   "language": "python",
   "name": "python3"
  },
  "language_info": {
   "name": "python",
   "version": "3.11.8"
  }
 },
 "nbformat": 4,
 "nbformat_minor": 2
}
